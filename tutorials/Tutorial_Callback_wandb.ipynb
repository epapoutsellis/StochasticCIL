{
 "cells": [
  {
   "cell_type": "code",
   "execution_count": 24,
   "id": "8d628c11-b6c1-453d-aa73-3bd289a35018",
   "metadata": {
    "tags": []
   },
   "outputs": [],
   "source": [
    "## import libraries\n",
    "import h5py\n",
    "import numpy as np\n",
    "from PIL import Image\n",
    "import glob\n",
    "import time\n",
    "import matplotlib.pyplot as plt\n",
    "import logging\n",
    "from cil.utilities.display import show2D\n",
    "from cil.recon import FDK\n",
    "import os\n",
    "import imageio\n",
    "from cil.framework import AcquisitionGeometry, ImageGeometry\n",
    "from cil.plugins.astra import FBP, ProjectionOperator\n",
    "from cil.utilities.jupyter import islicer\n",
    "from cil.optimisation.algorithms import PDHG, FISTA, ISTA, SPDHG\n",
    "from cil.optimisation.utilities import RandomSampling\n",
    "from cil.optimisation.functions import L2NormSquared, LeastSquares, SGFunction, SAGAFunction, BlockFunction\n",
    "from cil.optimisation.operators import BlockOperator\n",
    "from cil.plugins.ccpi_regularisation.functions import FGP_TV\n",
    "from cil.processors import TransmissionAbsorptionConverter\n",
    "import zarr\n",
    "import dask\n",
    "from scipy.fftpack import fftshift, ifftshift, fft, ifft\n",
    "from cil.optimisation.utilities import OptimalityDistance\n",
    "import pywt\n",
    "import numpy.matlib\n",
    "from ProxSkip import ProxSkip\n",
    "from SVRGFunction import SVRGFunction\n",
    "from cil.optimisation.utilities import RSE, MSE, MAE, PSNR, MetricsDiagnostics, StatisticsDiagnostics, AlgorithmDiagnostics"
   ]
  },
  {
   "cell_type": "markdown",
   "id": "77b296e1-245f-49d1-98e7-613bc7e2468a",
   "metadata": {},
   "source": [
    "### Load 3D Dataset"
   ]
  },
  {
   "cell_type": "code",
   "execution_count": 2,
   "id": "fe79141f-5c91-4863-aac8-30197181686e",
   "metadata": {
    "tags": []
   },
   "outputs": [],
   "source": [
    "sino1 = zarr.load(\"NiPd_spent_01_microct_rings_removed.zarr\")\n",
    "print(sino1.shape)\n",
    "\n",
    "vertical , num_angles, horizontal = sino1.shape\n",
    "\n",
    "angles_list = np.linspace(0, np.pi, num_angles)\n",
    "ag = AcquisitionGeometry.create_Parallel3D().\\\n",
    "        set_panel([horizontal,vertical]).\\\n",
    "        set_angles(angles_list, angle_unit=\"radian\").\\\n",
    "        set_labels(['vertical','angle','horizontal'])\n",
    "ig = ag.get_ImageGeometry()\n",
    "print(ag.shape)\n",
    "\n",
    "sino_cil = ag.allocate()\n",
    "sino_cil.fill(sino1)"
   ]
  },
  {
   "cell_type": "markdown",
   "id": "478bfba4-c445-4a5e-9466-4b8b361767ff",
   "metadata": {
    "tags": []
   },
   "source": [
    "### Get 2D slice"
   ]
  },
  {
   "cell_type": "code",
   "execution_count": 7,
   "id": "56cdf6f9-7c3b-4d1c-a370-a803074035aa",
   "metadata": {},
   "outputs": [],
   "source": [
    "data2D = sino_cil.get_slice(vertical=350)\n",
    "ag2D = data2D.geometry\n",
    "ig2D = ag2D.get_ImageGeometry()"
   ]
  },
  {
   "cell_type": "markdown",
   "id": "98f53491-5e87-4d88-8ba5-b8a4c4c592cd",
   "metadata": {},
   "source": [
    "### Regulariser"
   ]
  },
  {
   "cell_type": "code",
   "execution_count": 8,
   "id": "1df62603-4eec-4148-ba45-88eff8482fdf",
   "metadata": {},
   "outputs": [],
   "source": [
    "alpha = 0.3\n",
    "G = alpha * FGP_TV(max_iteration = 100, device=\"gpu\") "
   ]
  },
  {
   "cell_type": "markdown",
   "id": "259083e2-4a2b-4c88-8b45-c66772e13b5d",
   "metadata": {},
   "source": [
    "### Fidelity"
   ]
  },
  {
   "cell_type": "code",
   "execution_count": 9,
   "id": "d640f729-a62b-4c55-85e0-837f1bab5ee8",
   "metadata": {},
   "outputs": [],
   "source": [
    "A = ProjectionOperator(ig2D, ag2D, device=\"gpu\")\n",
    "fidelity = LeastSquares(A=A, b=data2D, c=0.5)"
   ]
  },
  {
   "cell_type": "markdown",
   "id": "04040669-e5be-4a7b-9bc9-564379990ee7",
   "metadata": {},
   "source": [
    "### Algo (1000 iterations)"
   ]
  },
  {
   "cell_type": "code",
   "execution_count": 10,
   "id": "d91e38b9-505e-4a0a-8c02-d0c07c255b4b",
   "metadata": {},
   "outputs": [
    {
     "name": "stdout",
     "output_type": "stream",
     "text": [
      "     Iter   Max Iter  Time(s)/Iter            Objective\n",
      "        0       1000         0.000          8.17946e+02\n",
      "      100       1000         0.127          2.77418e+01\n",
      "      200       1000         0.134          2.77402e+01\n",
      "      300       1000         0.136          2.77402e+01\n",
      "      400       1000         0.137          2.77402e+01\n",
      "      500       1000         0.138          2.77402e+01\n",
      "      600       1000         0.138          2.77402e+01\n",
      "      700       1000         0.138          2.77402e+01\n",
      "      800       1000         0.138          2.77402e+01\n",
      "      900       1000         0.138          2.77402e+01\n",
      "     1000       1000         0.139          2.77402e+01\n",
      "-------------------------------------------------------\n",
      "Stop criterion has been reached.\n",
      "\n"
     ]
    }
   ],
   "source": [
    "step_size_fista = 1./fidelity.L\n",
    "initial = ig2D.allocate()\n",
    "\n",
    "fista_1000 = FISTA(initial = initial, f = fidelity, step_size = step_size_fista, g=G, \n",
    "            update_objective_interval = 100, \n",
    "            max_iteration = 1000)\n",
    "fista_1000.run(verbose=1)"
   ]
  },
  {
   "cell_type": "markdown",
   "id": "cfad17a1-1610-46df-9df5-153abd53291e",
   "metadata": {},
   "source": [
    "### Compute Distance from Optimal solution: Root Squared Error (RSE)"
   ]
  },
  {
   "cell_type": "code",
   "execution_count": 12,
   "id": "8ff15bad-bdd4-43d4-b2df-777b995f1659",
   "metadata": {},
   "outputs": [
    {
     "name": "stdout",
     "output_type": "stream",
     "text": [
      "     Iter   Max Iter  Time(s)/Iter            Objective                 rse\n",
      "        0        100         0.000          8.17946e+02         8.40131e-02\n",
      "       20        100         0.134          2.88788e+01         2.37356e-02\n",
      "       40        100         0.134          2.78383e+01         9.32892e-03\n",
      "       60        100         0.136          2.77534e+01         3.77138e-03\n",
      "       80        100         0.137          2.77436e+01         1.90112e-03\n",
      "      100        100         0.138          2.77418e+01         1.28395e-03\n",
      "---------------------------------------------------------------------------\n",
      "Stop criterion has been reached.\n",
      "\n"
     ]
    }
   ],
   "source": [
    "cb1 = MetricsDiagnostics(reference_image = fista_1000.solution, \n",
    "                         verbose=1, metrics_dict={'rse':RSE})  \n",
    "\n",
    "fista_100_metrics = FISTA(initial = initial, f = fidelity, step_size = step_size_fista, g=G, \n",
    "            update_objective_interval = 20, \n",
    "            max_iteration = 100)\n",
    "fista_100_metrics.run(verbose=1, callback=[cb1])"
   ]
  },
  {
   "cell_type": "code",
   "execution_count": 14,
   "id": "da5723c8-7004-4f51-bd64-243bfdb2af6d",
   "metadata": {},
   "outputs": [
    {
     "data": {
      "image/png": "[encoded data removed]",
      "text/plain": [
       "<Figure size 640x480 with 1 Axes>"
      ]
     },
     "metadata": {},
     "output_type": "display_data"
    }
   ],
   "source": [
    "plt.figure()\n",
    "plt.plot(fista_100_metrics.rse, label=\"RSE\")\n",
    "plt.legend()\n",
    "plt.show()"
   ]
  },
  {
   "cell_type": "markdown",
   "id": "d9f0ade4-33b6-41c9-b929-c89b25fae142",
   "metadata": {},
   "source": [
    "### Compute RSE and MSE"
   ]
  },
  {
   "cell_type": "code",
   "execution_count": 18,
   "id": "a1d65214-d319-4100-be07-066ee1b1016c",
   "metadata": {},
   "outputs": [
    {
     "name": "stdout",
     "output_type": "stream",
     "text": [
      "     Iter   Max Iter  Time(s)/Iter            Objective                 rse                  mse\n",
      "        0        100         0.000          8.17946e+02         8.40131e-02          1.46125e-08\n",
      "       20        100         0.130          2.88788e+01         2.37356e-02          1.16636e-09\n",
      "       40        100         0.132          2.78383e+01         9.32892e-03          1.80174e-10\n",
      "       60        100         0.135          2.77534e+01         3.77138e-03          2.94463e-11\n",
      "       80        100         0.137          2.77436e+01         1.90112e-03          7.48256e-12\n",
      "      100        100         0.138          2.77418e+01         1.28395e-03          3.41291e-12\n",
      "------------------------------------------------------------------------------------------------\n",
      "Stop criterion has been reached.\n",
      "\n"
     ]
    }
   ],
   "source": [
    "cb1 = MetricsDiagnostics(reference_image = fista_1000.solution, verbose=1, \n",
    "                         metrics_dict={'rse':RSE, 'mse':MSE})   \n",
    "\n",
    "fista_100_metrics = FISTA(initial = initial, f = fidelity, step_size = step_size_fista, g=G, \n",
    "            update_objective_interval = 20, \n",
    "            max_iteration = 100)\n",
    "fista_100_metrics.run(verbose=1, callback=[cb1])"
   ]
  },
  {
   "cell_type": "code",
   "execution_count": 19,
   "id": "7d17ff3d-605e-4aee-b742-26ffd57245cf",
   "metadata": {},
   "outputs": [
    {
     "data": {
      "image/png": "[encoded data removed]",
      "text/plain": [
       "<Figure size 640x480 with 1 Axes>"
      ]
     },
     "metadata": {},
     "output_type": "display_data"
    },
    {
     "data": {
      "image/png": "[encoded data removed]",
      "text/plain": [
       "<Figure size 640x480 with 1 Axes>"
      ]
     },
     "metadata": {},
     "output_type": "display_data"
    }
   ],
   "source": [
    "plt.figure()\n",
    "plt.plot(fista_100_metrics.rse, label=\"RSE\")\n",
    "plt.legend()\n",
    "plt.show()\n",
    "\n",
    "plt.figure()\n",
    "plt.plot(fista_100_metrics.mse, label=\"MSE\")\n",
    "plt.legend()\n",
    "plt.show()"
   ]
  },
  {
   "cell_type": "markdown",
   "id": "509b905e-6978-47f0-828f-ebc02c5b92cb",
   "metadata": {},
   "source": [
    "### Compute Metrics + Statistics: MAE, MEAN, MAX"
   ]
  },
  {
   "cell_type": "code",
   "execution_count": 20,
   "id": "38da5259-6c70-4ec9-b853-97f534d7f63c",
   "metadata": {},
   "outputs": [
    {
     "name": "stdout",
     "output_type": "stream",
     "text": [
      "     Iter   Max Iter  Time(s)/Iter            Objective                 mae                 mean                  max\n",
      "        0        100         0.000          8.17946e+02         6.51097e-05          0.00000e+00          0.00000e+00\n",
      "       20        100         0.130          2.88788e+01         1.50930e-05          6.52029e-05          3.96667e-04\n",
      "       40        100         0.132          2.78383e+01         4.24351e-06          6.51218e-05          6.81486e-04\n",
      "       60        100         0.135          2.77534e+01         1.62335e-06          6.51099e-05          8.69920e-04\n",
      "       80        100         0.137          2.77436e+01         9.36372e-07          6.51100e-05          9.34145e-04\n",
      "      100        100         0.138          2.77418e+01         6.10000e-07          6.51094e-05          9.46776e-04\n",
      "---------------------------------------------------------------------------------------------------------------------\n",
      "Stop criterion has been reached.\n",
      "\n"
     ]
    }
   ],
   "source": [
    "cb1 = MetricsDiagnostics(reference_image = fista_1000.solution, verbose=1, \n",
    "                         metrics_dict={'mae':MAE})   \n",
    "\n",
    "cb2 = StatisticsDiagnostics(verbose=1, statistics_dict={'mean': (lambda x: x.mean()),\n",
    "                                                       'max': (lambda x: x.max())}) \n",
    "\n",
    "fista_100_statistics = FISTA(initial = initial, f = fidelity, step_size = step_size_fista, g=G, \n",
    "            update_objective_interval = 20, \n",
    "            max_iteration = 100)\n",
    "fista_100_statistics.run(verbose=1, callback=[cb1, cb2])"
   ]
  },
  {
   "cell_type": "markdown",
   "id": "3737ba30-948d-4eb0-a76b-93a92525783e",
   "metadata": {},
   "source": [
    "### Monitor with Weights and Biases (wandb)"
   ]
  },
  {
   "cell_type": "code",
   "execution_count": 27,
   "id": "0809c14c-78e3-4b4c-9dca-edd7cc3f9321",
   "metadata": {},
   "outputs": [],
   "source": [
    "import wandb\n",
    "class WandbMonitor(AlgorithmDiagnostics):\n",
    "    \n",
    "    def __init__(self, project_name, run_name, config, monitor,verbose=1):\n",
    "\n",
    "        run = wandb.init(\n",
    "            # Set the project where this run will be logged\n",
    "            project=project_name, name = run_name,\n",
    "            # Track hyperparameters and run metadata\n",
    "            config=config)            \n",
    "\n",
    "        self.verbose = verbose\n",
    "        self.monitor = monitor\n",
    "\n",
    "           \n",
    "    def __call__(self, algo):\n",
    "\n",
    "        attribute_values = {attribute: getattr(algo, attribute)[-1] for attribute in self.monitor}\n",
    "        wandb.log(attribute_values)\n",
    "        \n",
    "    def callback_header(self):\n",
    "        return \"\"  \n",
    "\n",
    "    def callback_info_iter(self):\n",
    "        return \"\"  "
   ]
  },
  {
   "cell_type": "code",
   "execution_count": 29,
   "id": "097bca6e-21a3-4c22-8df0-8ee3ce80b858",
   "metadata": {},
   "outputs": [
    {
     "data": {
      "text/html": [
       "Finishing last run (ID:b08ysuzr) before initializing another..."
      ],
      "text/plain": [
       "<IPython.core.display.HTML object>"
      ]
     },
     "metadata": {},
     "output_type": "display_data"
    },
    {
     "data": {
      "text/html": [
       "Waiting for W&B process to finish... <strong style=\"color:green\">(success).</strong>"
      ],
      "text/plain": [
       "<IPython.core.display.HTML object>"
      ]
     },
     "metadata": {},
     "output_type": "display_data"
    },
    {
     "data": {
      "application/vnd.jupyter.widget-view+json": {
       "model_id": "65e3d59f38904d03b79eb44318f4f0e6",
       "version_major": 2,
       "version_minor": 0
      },
      "text/plain": [
       "VBox(children=(Label(value='0.005 MB of 0.005 MB uploaded (0.000 MB deduped)\\r'), FloatProgress(value=1.0, max…"
      ]
     },
     "metadata": {},
     "output_type": "display_data"
    },
    {
     "data": {
      "text/html": [
       "<style>\n",
       "    table.wandb td:nth-child(1) { padding: 0 10px; text-align: left ; width: auto;} td:nth-child(2) {text-align: left ; width: 100%}\n",
       "    .wandb-row { display: flex; flex-direction: row; flex-wrap: wrap; justify-content: flex-start; width: 100% }\n",
       "    .wandb-col { display: flex; flex-direction: column; flex-basis: 100%; flex: 1; padding: 10px; }\n",
       "    </style>\n",
       "<div class=\"wandb-row\"><div class=\"wandb-col\"><h3>Run history:</h3><br/><table class=\"wandb\"><tr><td>max</td><td>▁▄▆▇██</td></tr><tr><td>objective</td><td>█▁▁▁▁▁</td></tr><tr><td>rse</td><td>█▃▂▁▁▁</td></tr></table><br/></div><div class=\"wandb-col\"><h3>Run summary:</h3><br/><table class=\"wandb\"><tr><td>max</td><td>0.00095</td></tr><tr><td>objective</td><td>27.74182</td></tr><tr><td>rse</td><td>0.00128</td></tr></table><br/></div></div>"
      ],
      "text/plain": [
       "<IPython.core.display.HTML object>"
      ]
     },
     "metadata": {},
     "output_type": "display_data"
    },
    {
     "data": {
      "text/html": [
       " View run <strong style=\"color:#cdcd00\">FISTA_wandb</strong> at: <a href='https://wandb.ai/epapoutsellis/a4i_runs_4/runs/b08ysuzr' target=\"_blank\">https://wandb.ai/epapoutsellis/a4i_runs_4/runs/b08ysuzr</a><br/>Synced 6 W&B file(s), 0 media file(s), 0 artifact file(s) and 0 other file(s)"
      ],
      "text/plain": [
       "<IPython.core.display.HTML object>"
      ]
     },
     "metadata": {},
     "output_type": "display_data"
    },
    {
     "data": {
      "text/html": [
       "Find logs at: <code>./wandb/run-20230719_190948-b08ysuzr/logs</code>"
      ],
      "text/plain": [
       "<IPython.core.display.HTML object>"
      ]
     },
     "metadata": {},
     "output_type": "display_data"
    },
    {
     "data": {
      "text/html": [
       "Successfully finished last run (ID:b08ysuzr). Initializing new run:<br/>"
      ],
      "text/plain": [
       "<IPython.core.display.HTML object>"
      ]
     },
     "metadata": {},
     "output_type": "display_data"
    },
    {
     "data": {
      "application/vnd.jupyter.widget-view+json": {
       "model_id": "76872f4debba4a7d82e917757b03f87b",
       "version_major": 2,
       "version_minor": 0
      },
      "text/plain": [
       "VBox(children=(Label(value='Waiting for wandb.init()...\\r'), FloatProgress(value=0.01667049218331158, max=1.0)…"
      ]
     },
     "metadata": {},
     "output_type": "display_data"
    },
    {
     "data": {
      "text/html": [
       "Tracking run with wandb version 0.15.5"
      ],
      "text/plain": [
       "<IPython.core.display.HTML object>"
      ]
     },
     "metadata": {},
     "output_type": "display_data"
    },
    {
     "data": {
      "text/html": [
       "Run data is saved locally in <code>/mnt/f/Vaggelis_Finden/A4I_2023/ProxSkip/wandb/run-20230719_191037-5r5bdboz</code>"
      ],
      "text/plain": [
       "<IPython.core.display.HTML object>"
      ]
     },
     "metadata": {},
     "output_type": "display_data"
    },
    {
     "data": {
      "text/html": [
       "Syncing run <strong><a href='https://wandb.ai/epapoutsellis/a4i_runs_4/runs/5r5bdboz' target=\"_blank\">FISTA_wandb</a></strong> to <a href='https://wandb.ai/epapoutsellis/a4i_runs_4' target=\"_blank\">Weights & Biases</a> (<a href='https://wandb.me/run' target=\"_blank\">docs</a>)<br/>"
      ],
      "text/plain": [
       "<IPython.core.display.HTML object>"
      ]
     },
     "metadata": {},
     "output_type": "display_data"
    },
    {
     "data": {
      "text/html": [
       " View project at <a href='https://wandb.ai/epapoutsellis/a4i_runs_4' target=\"_blank\">https://wandb.ai/epapoutsellis/a4i_runs_4</a>"
      ],
      "text/plain": [
       "<IPython.core.display.HTML object>"
      ]
     },
     "metadata": {},
     "output_type": "display_data"
    },
    {
     "data": {
      "text/html": [
       " View run at <a href='https://wandb.ai/epapoutsellis/a4i_runs_4/runs/5r5bdboz' target=\"_blank\">https://wandb.ai/epapoutsellis/a4i_runs_4/runs/5r5bdboz</a>"
      ],
      "text/plain": [
       "<IPython.core.display.HTML object>"
      ]
     },
     "metadata": {},
     "output_type": "display_data"
    }
   ],
   "source": [
    "cb1 = MetricsDiagnostics(reference_image = fista_1000.solution, verbose=1, \n",
    "                         metrics_dict={'rse':RSE})   \n",
    "\n",
    "cb2 = StatisticsDiagnostics(verbose=1, statistics_dict={'mean': (lambda x: x.mean()),\n",
    "                                                       'max': (lambda x: x.max())})\n",
    "\n",
    "project_name = \"a4i_runs_4\"\n",
    "config={\"algorithm\":\"fista\"}\n",
    "\n",
    "cb3 = WandbMonitor(project_name = project_name, run_name = \"FISTA_wandb\", \n",
    "                       config=config, monitor=['objective','rse','max'])    \n",
    "\n",
    "fista_100_statistics = FISTA(initial = initial, f = fidelity, step_size = step_size_fista, g=G, \n",
    "            update_objective_interval = 5, \n",
    "            max_iteration = 1000)\n",
    "fista_100_statistics.run(verbose=0, callback=[cb1, cb2, cb3])"
   ]
  },
  {
   "cell_type": "code",
   "execution_count": null,
   "id": "f52f75ea-a339-4143-a88b-b41e73b44c44",
   "metadata": {},
   "outputs": [],
   "source": []
  },
  {
   "cell_type": "code",
   "execution_count": null,
   "id": "0f732d1a-c222-4d8d-8de6-5173a0a8de54",
   "metadata": {},
   "outputs": [],
   "source": []
  },
  {
   "cell_type": "code",
   "execution_count": null,
   "id": "7774b196-9132-459d-be7f-b7c3025fe0aa",
   "metadata": {},
   "outputs": [],
   "source": [
    "    # cb2 = WandbMonitor(project_name = project_name, run_name = \"SPDHG_4_gamma_{}\".format(gamma), \n",
    "    #                    config=config, monitor=['objective','RSE'])    "
   ]
  },
  {
   "cell_type": "code",
   "execution_count": null,
   "id": "ed8cc5fc-d18d-4439-9b1e-3940145e84ff",
   "metadata": {},
   "outputs": [],
   "source": []
  }
 ],
 "metadata": {
  "kernelspec": {
   "display_name": "Python 3 (ipykernel)",
   "language": "python",
   "name": "python3"
  },
  "language_info": {
   "codemirror_mode": {
    "name": "ipython",
    "version": 3
   },
   "file_extension": ".py",
   "mimetype": "text/x-python",
   "name": "python",
   "nbconvert_exporter": "python",
   "pygments_lexer": "ipython3",
   "version": "3.10.8"
  }
 },
 "nbformat": 4,
 "nbformat_minor": 5
}
